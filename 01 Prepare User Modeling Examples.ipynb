{
 "cells": [
  {
   "cell_type": "code",
   "execution_count": 1,
   "metadata": {},
   "outputs": [],
   "source": [
    "import re\n",
    "import codecs"
   ]
  },
  {
   "cell_type": "code",
   "execution_count": 2,
   "metadata": {},
   "outputs": [],
   "source": [
    "txt = codecs.open('./data/user/user.txt',\"r\",\"utf-8\").read()"
   ]
  },
  {
   "cell_type": "code",
   "execution_count": 3,
   "metadata": {},
   "outputs": [],
   "source": [
    "exec(open(\"preppy.py\").read())"
   ]
  },
  {
   "cell_type": "code",
   "execution_count": 4,
   "metadata": {},
   "outputs": [],
   "source": [
    "split_reg = re.compile('\\n')"
   ]
  },
  {
   "cell_type": "markdown",
   "metadata": {},
   "source": [
    "# parse the raw text of QA into dictionary"
   ]
  },
  {
   "cell_type": "code",
   "execution_count": 5,
   "metadata": {},
   "outputs": [],
   "source": [
    "sentences = split_reg.split(txt)"
   ]
  },
  {
   "cell_type": "code",
   "execution_count": 6,
   "metadata": {},
   "outputs": [
    {
     "name": "stdout",
     "output_type": "stream",
     "text": [
      "54\t0\t这 让 我 怎么 相信 爱情 诶\n"
     ]
    }
   ],
   "source": [
    "print(sentences[0])"
   ]
  },
  {
   "cell_type": "markdown",
   "metadata": {},
   "source": [
    "One single line demo"
   ]
  },
  {
   "cell_type": "code",
   "execution_count": 7,
   "metadata": {},
   "outputs": [],
   "source": [
    "verses_splitter = re.compile('(?P<user>\\d+)\\t(?P<label>\\d+)\\t(?P<sentence>.+)',)"
   ]
  },
  {
   "cell_type": "code",
   "execution_count": 8,
   "metadata": {},
   "outputs": [],
   "source": [
    "gen = verses_splitter.finditer(sentences[0].replace(\"\\n\",\"\"))"
   ]
  },
  {
   "cell_type": "code",
   "execution_count": 9,
   "metadata": {},
   "outputs": [
    {
     "data": {
      "text/plain": [
       "{'user': '54', 'label': '0', 'sentence': '这 让 我 怎么 相信 爱情 诶'}"
      ]
     },
     "execution_count": 9,
     "metadata": {},
     "output_type": "execute_result"
    }
   ],
   "source": [
    "next(gen).groupdict()"
   ]
  },
  {
   "cell_type": "markdown",
   "metadata": {},
   "source": [
    "Lets run all of that on the entire text"
   ]
  },
  {
   "cell_type": "code",
   "execution_count": 10,
   "metadata": {},
   "outputs": [],
   "source": [
    "examples= []\n",
    "for line in sentences:\n",
    "    for verse_regex_match in verses_splitter.finditer(line):\n",
    "        example = verse_regex_match.groupdict()\n",
    "        example.update({\n",
    "            \"user\": int(example[\"user\"]),\n",
    "            \"label\": int(example[\"label\"]),\n",
    "            \"sentence\":example[\"sentence\"].strip()})\n",
    "        examples.append(example)"
   ]
  },
  {
   "cell_type": "code",
   "execution_count": 11,
   "metadata": {},
   "outputs": [
    {
     "name": "stdout",
     "output_type": "stream",
     "text": [
      "{'user': 54, 'label': 0, 'sentence': '这 让 我 怎么 相信 爱情 诶'}\n"
     ]
    }
   ],
   "source": [
    "len(examples)\n",
    "print((examples[0]))"
   ]
  },
  {
   "cell_type": "code",
   "execution_count": 12,
   "metadata": {},
   "outputs": [],
   "source": [
    "import pickle\n",
    "pickle.dump(examples,open('./data/user/examples.pkl','wb'))"
   ]
  },
  {
   "cell_type": "markdown",
   "metadata": {},
   "source": [
    "## Make them into TF records"
   ]
  },
  {
   "cell_type": "code",
   "execution_count": 13,
   "metadata": {},
   "outputs": [],
   "source": [
    "import tensorflow as tf\n",
    "from preppy import UserPreppy\n",
    "import numpy as np"
   ]
  },
  {
   "cell_type": "code",
   "execution_count": 14,
   "metadata": {},
   "outputs": [],
   "source": [
    "import random\n",
    "random.shuffle(examples)\n",
    "val_size = int(len(examples)*0.25)\n",
    "val,train = examples[:val_size], examples[val_size:]"
   ]
  },
  {
   "cell_type": "code",
   "execution_count": 15,
   "metadata": {},
   "outputs": [],
   "source": [
    "def tokenizer(sentence):\n",
    "    return sentence.split()\n",
    "    \n",
    "BP = UserPreppy(tokenizer_fn=tokenizer)\n",
    "\n",
    "for (data,path) in [(val,'./data/user/val.tfrecord'),(train,'./data/user/train.tfrecord')]:\n",
    "    with open(path,'w') as f:\n",
    "        writer = tf.python_io.TFRecordWriter(f.name)\n",
    "    for example in data:\n",
    "        record = BP.sequence_to_tf_example(\n",
    "            sequence=example[\"sentence\"], \n",
    "            user=example[\"user\"], \n",
    "            label=example[\"label\"])\n",
    "        writer.write(record.SerializeToString())\n"
   ]
  },
  {
   "cell_type": "code",
   "execution_count": 16,
   "metadata": {},
   "outputs": [],
   "source": [
    "pickle.dump(BP,open('./data/user/preppy.pkl','wb'))"
   ]
  }
 ],
 "metadata": {
  "kernelspec": {
   "display_name": "Python (python36)",
   "language": "python",
   "name": "python36"
  },
  "language_info": {
   "codemirror_mode": {
    "name": "ipython",
    "version": 3
   },
   "file_extension": ".py",
   "mimetype": "text/x-python",
   "name": "python",
   "nbconvert_exporter": "python",
   "pygments_lexer": "ipython3",
   "version": "3.6.8"
  }
 },
 "nbformat": 4,
 "nbformat_minor": 2
}
