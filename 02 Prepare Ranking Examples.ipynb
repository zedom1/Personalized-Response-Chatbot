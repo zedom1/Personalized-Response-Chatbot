{
 "cells": [
  {
   "cell_type": "code",
   "execution_count": 5,
   "metadata": {},
   "outputs": [],
   "source": [
    "import re\n",
    "import codecs\n",
    "import pickle"
   ]
  },
  {
   "cell_type": "code",
   "execution_count": 2,
   "metadata": {},
   "outputs": [],
   "source": [
    "txt = codecs.open('./data/rank/rank.txt',\"r\",\"utf-8\").read()"
   ]
  },
  {
   "cell_type": "code",
   "execution_count": 3,
   "metadata": {},
   "outputs": [],
   "source": [
    "exec(open(\"preppy.py\").read())"
   ]
  },
  {
   "cell_type": "code",
   "execution_count": 4,
   "metadata": {},
   "outputs": [],
   "source": [
    "split_reg = re.compile('\\n')"
   ]
  },
  {
   "cell_type": "markdown",
   "metadata": {},
   "source": [
    "# parse the raw text of QA into dictionary"
   ]
  },
  {
   "cell_type": "code",
   "execution_count": 5,
   "metadata": {},
   "outputs": [],
   "source": [
    "sentences = split_reg.split(txt)"
   ]
  },
  {
   "cell_type": "code",
   "execution_count": 6,
   "metadata": {},
   "outputs": [
    {
     "name": "stdout",
     "output_type": "stream",
     "text": [
      "11\t0\t那 我 也是 曾经 的 情人 啊 最 伤 自尊 的 是 他 姐姐 说 她 看到 我 时 一度 质疑 我 ex 的 审美 不过 那 时候 我 还是 高中生\t耐心 的 双鱼 还好 点 但是 八 竿子 打 不 出来 一句话 那 就 悲剧 了\r\n"
     ]
    }
   ],
   "source": [
    "print(sentences[0])"
   ]
  },
  {
   "cell_type": "markdown",
   "metadata": {},
   "source": [
    "One single line demo"
   ]
  },
  {
   "cell_type": "code",
   "execution_count": 7,
   "metadata": {},
   "outputs": [],
   "source": [
    "verses_splitter = re.compile('(?P<user>\\d+)\\t(?P<label>\\d+)\\t(?P<query>.+)\\t(?P<response>.+)',)"
   ]
  },
  {
   "cell_type": "code",
   "execution_count": 8,
   "metadata": {},
   "outputs": [],
   "source": [
    "gen = verses_splitter.finditer(sentences[0].replace(\"\\n\",\"\"))"
   ]
  },
  {
   "cell_type": "code",
   "execution_count": 9,
   "metadata": {},
   "outputs": [
    {
     "data": {
      "text/plain": [
       "{'user': '11',\n",
       " 'label': '0',\n",
       " 'query': '那 我 也是 曾经 的 情人 啊 最 伤 自尊 的 是 他 姐姐 说 她 看到 我 时 一度 质疑 我 ex 的 审美 不过 那 时候 我 还是 高中生',\n",
       " 'response': '耐心 的 双鱼 还好 点 但是 八 竿子 打 不 出来 一句话 那 就 悲剧 了\\r'}"
      ]
     },
     "execution_count": 9,
     "metadata": {},
     "output_type": "execute_result"
    }
   ],
   "source": [
    "next(gen).groupdict()"
   ]
  },
  {
   "cell_type": "markdown",
   "metadata": {},
   "source": [
    "Lets run all of that on the entire text"
   ]
  },
  {
   "cell_type": "code",
   "execution_count": 10,
   "metadata": {},
   "outputs": [],
   "source": [
    "examples= []\n",
    "for line in sentences:\n",
    "    for verse_regex_match in verses_splitter.finditer(line):\n",
    "        example = verse_regex_match.groupdict()\n",
    "        example.update({\n",
    "            \"user\": int(example[\"user\"]),\n",
    "            \"label\": int(example[\"label\"]),\n",
    "            \"query\":example[\"query\"].strip(),\n",
    "            \"response\":example[\"response\"].strip()\n",
    "        })\n",
    "        examples.append(example)"
   ]
  },
  {
   "cell_type": "code",
   "execution_count": 11,
   "metadata": {},
   "outputs": [
    {
     "name": "stdout",
     "output_type": "stream",
     "text": [
      "{'user': 11, 'label': 0, 'query': '那 我 也是 曾经 的 情人 啊 最 伤 自尊 的 是 他 姐姐 说 她 看到 我 时 一度 质疑 我 ex 的 审美 不过 那 时候 我 还是 高中生', 'response': '耐心 的 双鱼 还好 点 但是 八 竿子 打 不 出来 一句话 那 就 悲剧 了'}\n"
     ]
    }
   ],
   "source": [
    "len(examples)\n",
    "print((examples[0]))"
   ]
  },
  {
   "cell_type": "code",
   "execution_count": 12,
   "metadata": {},
   "outputs": [],
   "source": [
    "pickle.dump(examples,open('./data/rank/examples.pkl','wb'))"
   ]
  },
  {
   "cell_type": "markdown",
   "metadata": {},
   "source": [
    "## Make them into TF records"
   ]
  },
  {
   "cell_type": "code",
   "execution_count": 13,
   "metadata": {},
   "outputs": [],
   "source": [
    "import tensorflow as tf\n",
    "from preppy import RankPreppy\n",
    "import numpy as np"
   ]
  },
  {
   "cell_type": "code",
   "execution_count": 14,
   "metadata": {},
   "outputs": [],
   "source": [
    "import random\n",
    "random.shuffle(examples)\n",
    "train = examples"
   ]
  },
  {
   "cell_type": "code",
   "execution_count": 15,
   "metadata": {},
   "outputs": [],
   "source": [
    "def tokenizer(sentence):\n",
    "    return sentence.split()\n",
    "    \n",
    "BP = RankPreppy(tokenizer_fn=tokenizer)\n",
    "\n",
    "for (data,path) in [(val,'./data/rank/val.tfrecord'),(train,'./data/rank/train.tfrecord')]:\n",
    "    with open(path,'w') as f:\n",
    "        writer = tf.python_io.TFRecordWriter(f.name)\n",
    "    for example in data:\n",
    "        record = BP.sequence_to_tf_example(\n",
    "            query=example[\"query\"], \n",
    "            response=example[\"response\"], \n",
    "            user=example[\"user\"], \n",
    "            label=example[\"label\"])\n",
    "        writer.write(record.SerializeToString())\n"
   ]
  },
  {
   "cell_type": "code",
   "execution_count": 17,
   "metadata": {},
   "outputs": [],
   "source": [
    "pickle.dump(BP,open('./data/rank/preppy.pkl','wb'))"
   ]
  },
  {
   "cell_type": "code",
   "execution_count": 7,
   "metadata": {},
   "outputs": [],
   "source": [
    "val = open(\"./data/rank/val.txt\").read().strip().split(\"\\n\")\n",
    "vals= []\n",
    "for line in val:\n",
    "    line = line.split(\"\\t\")\n",
    "    example = {}\n",
    "    example.update({\n",
    "        \"user\": int(line[0]),\n",
    "        \"query\":line[1].strip(),\n",
    "    })\n",
    "    for i in range(10):\n",
    "        example.update({\"response_{}\".format(i): line[2+i]})\n",
    "    vals.append(example)"
   ]
  },
  {
   "cell_type": "code",
   "execution_count": 8,
   "metadata": {},
   "outputs": [
    {
     "data": {
      "text/plain": [
       "{'user': 11,\n",
       " 'query': '那 我 也是 曾经 的 情人 啊 最 伤 自尊 的 是 他 姐姐 说 她 看到 我 时 一度 质疑 我 ex 的 审美 不过 那 时候 我 还是 高中生',\n",
       " 'response_0': '耐心 的 双鱼 还好 点 但是 八 竿子 打 不 出来 一句话 那 就 悲剧 了',\n",
       " 'response_1': '我 也 搬 来 了 小 板凳 〜 拍 巴掌 欢迎 小 走 老师 给 我们 上课 〜',\n",
       " 'response_2': '小 走 姐姐 求 指点 咬 手绢',\n",
       " 'response_3': '大师 看来 姐姐 教 我们 反思 修行 不 只 针对 自己 的 ex 对 别人 的 感情 也 能 很 客观 地 指出 问题 潜心 修行 真的',\n",
       " 'response_4': '小 走 姐姐 给 我们 分析 分析 吧 我们 准备 好 小 凳子 啦',\n",
       " 'response_5': '要么 你 去 找 他 要么 没戏 还有 一种 是 非常 在乎 你 他 就 会 找 你',\n",
       " 'response_6': '他 还是 会 生气 冷 你 等 你 给 他 道歉 不过 你 道歉 的 同时 要 和 他 说 为什么 你 生气 这样 他 下次 会 注意 不 犯 同样 的 错 的 并且 会 感激 你',\n",
       " 'response_7': '壮汉 那 是 男人 啦 乖 你 在家 爷们 儿 就 行 了 出门 他 要是 想 爷们 儿 一点 儿 就让 她 嘛 哈哈 哈哈',\n",
       " 'response_8': '我 觉得 像 周 老师 这样 老一辈 的 艺术家 如果 有 意见 会 直接 当面 跟 云 总 说 不会 像 腔骨 一样 只 敢 在 背后 唧唧 歪歪',\n",
       " 'response_9': '老师 爱 学生会 这样 的 〜 大家 放宽 心 吧 〜 以前 我 历史 老师 整体 骂 我 不 认真 可 还 对 我 最好 〜 高考 时 还是 没有 让 她 老人 家 失望 ω'}"
      ]
     },
     "execution_count": 8,
     "metadata": {},
     "output_type": "execute_result"
    }
   ],
   "source": [
    "vals[0]"
   ]
  },
  {
   "cell_type": "code",
   "execution_count": 9,
   "metadata": {},
   "outputs": [],
   "source": [
    "pickle.dump(vals,open('./data/rank/val.pkl','wb'))"
   ]
  }
 ],
 "metadata": {
  "kernelspec": {
   "display_name": "Python (python36)",
   "language": "python",
   "name": "python36"
  },
  "language_info": {
   "codemirror_mode": {
    "name": "ipython",
    "version": 3
   },
   "file_extension": ".py",
   "mimetype": "text/x-python",
   "name": "python",
   "nbconvert_exporter": "python",
   "pygments_lexer": "ipython3",
   "version": "3.6.8"
  }
 },
 "nbformat": 4,
 "nbformat_minor": 2
}
