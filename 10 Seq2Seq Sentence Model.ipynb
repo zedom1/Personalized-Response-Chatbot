{
 "cells": [
  {
   "cell_type": "code",
   "execution_count": 1,
   "metadata": {},
   "outputs": [],
   "source": [
    "import pickle\n",
    "import numpy as np\n",
    "import tensorflow as tf\n",
    "from preppy import Preppy\n",
    "from seq2seq import Seq2SeqModel\n",
    "from tensorflow.contrib.seq2seq import *\n",
    "from tensorflow.python.layers.core import Dense\n",
    "\n",
    "np.set_printoptions(threshold=np.nan)"
   ]
  },
  {
   "cell_type": "code",
   "execution_count": 2,
   "metadata": {},
   "outputs": [],
   "source": [
    "params = {\n",
    "    'embedding_size': 50, # 词的embedding size\n",
    "    'vocab_size': 0,   # 词汇表大小，读取词汇表获取\n",
    "    'hidden_size': 64,   # lstm 隐藏层，final hidden state\n",
    "    'n_layers': 1,  # lstm 层数\n",
    "    \n",
    "    'epochs': 1,\n",
    "    'batch_size': 32,\n",
    "    \n",
    "    'grad_clip': 5.0,\n",
    "    'learning_rate': 0.001,\n",
    "    \n",
    "    'save_path' : './Model/Seq2seq/model.ckpt'\n",
    "}\n"
   ]
  },
  {
   "cell_type": "markdown",
   "metadata": {},
   "source": [
    "Make a dataset by reading the train "
   ]
  },
  {
   "cell_type": "code",
   "execution_count": 3,
   "metadata": {},
   "outputs": [],
   "source": [
    "def expand(x):\n",
    "    x['length'] = tf.expand_dims(tf.convert_to_tensor(x['length']),0)\n",
    "    return x\n",
    "\n",
    "def deflate(x):\n",
    "    x['length'] = tf.squeeze(x['length'])\n",
    "    return x\n",
    "\n",
    "def tokenizer(sentence):\n",
    "    return sentence.split()\n",
    "\n",
    "def save_params(params, path='./Model/Seq2seq/params.pkl'):\n",
    "    with open(path, 'wb') as out_file:\n",
    "        pickle.dump(params, out_file)\n",
    "\n",
    "def load_params(path='./Model/Seq2seq/params.pkl'):\n",
    "    with open(path, 'rb') as in_file:\n",
    "        return pickle.load(in_file)"
   ]
  },
  {
   "cell_type": "markdown",
   "metadata": {},
   "source": [
    "## Read and parse tf record"
   ]
  },
  {
   "cell_type": "code",
   "execution_count": 4,
   "metadata": {},
   "outputs": [],
   "source": [
    "preppy = pickle.load(open('./data/seq2seq/preppy.pkl','rb'))\n",
    "params[\"vocab_size\"] = len(preppy.vocab)\n",
    "tf.reset_default_graph()\n",
    "dataset_train = tf.data.TFRecordDataset(['./data/seq2seq/train.tfrecord']).map(preppy.parse)\n",
    "dataset_val = tf.data.TFRecordDataset(['./data/seq2seq/val.tfrecord']).map(preppy.parse)"
   ]
  },
  {
   "cell_type": "code",
   "execution_count": 5,
   "metadata": {},
   "outputs": [
    {
     "data": {
      "text/plain": [
       "{'sentence': TensorShape([Dimension(None)])}"
      ]
     },
     "execution_count": 5,
     "metadata": {},
     "output_type": "execute_result"
    }
   ],
   "source": [
    "dataset_train.output_shapes"
   ]
  },
  {
   "cell_type": "code",
   "execution_count": 6,
   "metadata": {},
   "outputs": [],
   "source": [
    "sess = tf.Session(config=tf.ConfigProto(allow_soft_placement=True, log_device_placement=False))"
   ]
  },
  {
   "cell_type": "markdown",
   "metadata": {},
   "source": [
    "## Pad sequences with batch"
   ]
  },
  {
   "cell_type": "code",
   "execution_count": 7,
   "metadata": {},
   "outputs": [],
   "source": [
    "batched_train = dataset_train.padded_batch(32,padded_shapes={\n",
    "    \"sentence\":tf.TensorShape([None])\n",
    "}, drop_remainder=True)\n",
    "\n",
    "batched_val = dataset_val.padded_batch(32,padded_shapes={\n",
    "    \"sentence\":tf.TensorShape([None])\n",
    "}, drop_remainder=True)\n",
    "\n",
    "handle = tf.placeholder(tf.string, shape=[])\n",
    "iterator = tf.data.Iterator.from_string_handle(\n",
    "    handle, batched_train.output_types, batched_train.output_shapes)\n",
    "\n",
    "next_item = iterator.get_next()"
   ]
  },
  {
   "cell_type": "code",
   "execution_count": 8,
   "metadata": {},
   "outputs": [
    {
     "data": {
      "text/plain": [
       "{'sentence': TensorShape([Dimension(32), Dimension(None)])}"
      ]
     },
     "execution_count": 8,
     "metadata": {},
     "output_type": "execute_result"
    }
   ],
   "source": [
    "batched_train.output_shapes"
   ]
  },
  {
   "cell_type": "code",
   "execution_count": 9,
   "metadata": {},
   "outputs": [],
   "source": [
    "iterator_train = batched_train.make_initializable_iterator()\n",
    "iterator_val = batched_val.make_initializable_iterator()\n",
    "\n",
    "handle_train = sess.run(iterator_train.string_handle())\n",
    "handle_val = sess.run(iterator_val.string_handle())"
   ]
  },
  {
   "cell_type": "code",
   "execution_count": 10,
   "metadata": {},
   "outputs": [],
   "source": [
    "M = Seq2SeqModel(params)\n",
    "sess.run(tf.global_variables_initializer())"
   ]
  },
  {
   "cell_type": "code",
   "execution_count": 11,
   "metadata": {},
   "outputs": [],
   "source": [
    "saver = tf.train.Saver()\n",
    "saver.restore(sess, params[\"save_path\"])"
   ]
  },
  {
   "cell_type": "code",
   "execution_count": 12,
   "metadata": {},
   "outputs": [
    {
     "name": "stdout",
     "output_type": "stream",
     "text": [
      "Epoch: 0\n",
      "Training\n",
      "8.6527405\n",
      "8.651047\n",
      "8.648855\n",
      "8.646721\n",
      "8.643979\n",
      "8.642848\n",
      "8.639293\n",
      "8.636284\n",
      "8.632689\n",
      "8.6295\n",
      "8.625023\n",
      "8.61899\n",
      "8.620624\n",
      "8.606112\n",
      "8.597105\n",
      "8.572386\n",
      "8.54331\n",
      "8.521591\n",
      "8.462693\n",
      "8.400234\n",
      "8.373184\n",
      "8.284909\n",
      "8.240317\n",
      "8.136284\n",
      "8.072831\n",
      "7.96163\n",
      "7.863019\n",
      "7.820665\n",
      "7.731457\n",
      "7.6543016\n",
      "7.5643396\n",
      "7.5080833\n",
      "7.453493\n",
      "7.302027\n",
      "7.30714\n",
      "7.2394547\n",
      "7.0865397\n",
      "7.103751\n",
      "7.107382\n",
      "6.9103208\n",
      "6.8905597\n",
      "6.7481794\n",
      "6.7698827\n",
      "6.576152\n",
      "6.670772\n",
      "6.5779715\n",
      "6.631096\n",
      "6.5998163\n",
      "6.3549266\n",
      "6.512864\n",
      "6.588205\n",
      "6.3390183\n",
      "6.364741\n",
      "6.138196\n",
      "6.5652385\n",
      "6.321941\n",
      "6.485783\n",
      "6.251157\n",
      "6.1870036\n",
      "6.2825923\n",
      "6.3593435\n",
      "6.447674\n",
      "6.407743\n",
      "6.1752567\n",
      "6.427432\n",
      "6.340183\n",
      "6.1599183\n",
      "6.2632627\n",
      "6.1095757\n",
      "6.2436337\n",
      "6.0588107\n",
      "6.2722764\n",
      "5.932068\n",
      "6.6450295\n",
      "5.9602003\n",
      "6.36636\n",
      "6.2469397\n",
      "6.1844263\n",
      "6.3292966\n",
      "6.1049213\n",
      "6.5520988\n",
      "5.982187\n",
      "6.3298736\n",
      "5.8136563\n",
      "6.318685\n",
      "6.0166807\n",
      "6.2107615\n",
      "6.234241\n",
      "6.1108284\n",
      "6.294701\n",
      "6.1549826\n",
      "6.1354184\n",
      "6.148198\n",
      "6.451134\n",
      "6.1456356\n",
      "6.0854053\n",
      "6.2088656\n",
      "6.0078526\n",
      "6.1784673\n",
      "6.0805306\n",
      "6.1541533\n",
      "6.2996907\n",
      "6.1233535\n",
      "6.2372284\n",
      "6.2407537\n",
      "5.876461\n",
      "5.9662313\n",
      "6.133851\n",
      "6.116312\n",
      "6.0866375\n",
      "6.267096\n",
      "5.8647156\n",
      "6.077969\n",
      "6.2153916\n",
      "6.0013046\n",
      "6.153577\n",
      "6.2598534\n",
      "6.070015\n",
      "6.224986\n",
      "6.206944\n",
      "6.0619087\n",
      "6.1948876\n",
      "6.240591\n",
      "6.1474714\n",
      "6.074136\n",
      "6.128156\n",
      "6.109908\n",
      "5.9365807\n",
      "5.872012\n",
      "6.047738\n",
      "6.1524057\n",
      "6.204468\n",
      "6.075163\n",
      "5.90091\n",
      "6.164459\n",
      "5.844797\n",
      "6.117763\n",
      "5.8258967\n",
      "5.8654275\n",
      "6.2010736\n",
      "6.182604\n",
      "5.936777\n",
      "5.791506\n",
      "5.7732244\n",
      "5.85016\n",
      "5.8868494\n",
      "6.247033\n",
      "6.136211\n",
      "5.9929333\n",
      "5.772725\n",
      "6.1229873\n",
      "6.315637\n",
      "5.876821\n",
      "5.9745617\n",
      "5.9992867\n",
      "5.9558787\n",
      "6.104648\n",
      "5.5482388\n",
      "5.8257246\n",
      "5.935101\n",
      "5.7017245\n",
      "5.853715\n",
      "6.0799556\n",
      "5.811099\n",
      "5.921204\n",
      "6.1816454\n",
      "6.0260153\n",
      "5.742543\n",
      "5.947136\n",
      "6.035807\n",
      "5.6757975\n",
      "6.1393075\n",
      "6.4242935\n",
      "6.0769806\n",
      "5.941762\n",
      "5.945793\n",
      "5.5559816\n",
      "5.7131467\n",
      "5.847893\n",
      "5.661361\n",
      "5.625335\n",
      "6.1838503\n",
      "6.0646787\n",
      "6.019153\n",
      "6.0408645\n",
      "5.6688786\n",
      "5.5362926\n",
      "5.692605\n",
      "6.023664\n",
      "5.7496233\n",
      "5.779332\n",
      "5.542597\n",
      "5.806645\n",
      "5.602539\n",
      "5.495397\n",
      "5.8250318\n",
      "6.0203433\n",
      "5.5173826\n",
      "5.4010687\n",
      "5.465798\n",
      "5.9377046\n",
      "5.6896954\n",
      "5.8846254\n",
      "5.683199\n",
      "5.8553224\n",
      "5.4830985\n",
      "5.9096303\n",
      "5.938608\n",
      "5.930565\n",
      "5.568745\n",
      "5.8167467\n",
      "5.748843\n",
      "5.5744205\n",
      "5.7130027\n",
      "5.490917\n",
      "5.4592943\n",
      "5.622385\n",
      "5.527607\n",
      "5.597075\n",
      "5.654207\n",
      "4.933694\n",
      "5.8110485\n",
      "5.737798\n",
      "5.6166115\n",
      "5.6136694\n",
      "5.551866\n",
      "5.5992293\n",
      "5.8780947\n",
      "5.641327\n",
      "5.8346786\n",
      "6.1385064\n",
      "5.5553603\n",
      "5.358826\n",
      "5.7454395\n",
      "5.864564\n",
      "5.7727246\n",
      "5.3711963\n",
      "5.5208116\n",
      "5.4210944\n",
      "5.5591116\n",
      "5.0616136\n",
      "5.8475847\n",
      "5.484224\n",
      "5.673084\n",
      "5.594355\n",
      "5.763445\n",
      "5.5392137\n",
      "5.523749\n",
      "5.1782913\n",
      "5.5087724\n",
      "5.363188\n",
      "5.4577184\n",
      "5.3058553\n",
      "5.4276195\n",
      "5.526076\n",
      "5.367544\n",
      "Validation\n",
      "Training and Validation Finish\n",
      "Model Trained and Saved\n"
     ]
    }
   ],
   "source": [
    "loss_train = []\n",
    "loss_val = []\n",
    "\n",
    "for epoch in range(params[\"epochs\"]):\n",
    "    print(\"Epoch: %d\"%(epoch))\n",
    "    sess.run(iterator_train.initializer)\n",
    "    print(\"Training\")\n",
    "    while True:\n",
    "        try:\n",
    "            sentence = sess.run(next_item,feed_dict={handle: handle_train})\n",
    "            logits, _, loss = sess.run([M.logits, M.train_op, M.loss],feed_dict={\n",
    "                M.lr: params[\"learning_rate\"],\n",
    "                M.sentence : sentence[\"sentence\"]\n",
    "            })\n",
    "            loss_train.append(loss)\n",
    "            print(loss)\n",
    "        except tf.errors.OutOfRangeError:\n",
    "            break\n",
    "        except tf.errors.DataLossError:\n",
    "            break\n",
    "    \n",
    "    print(\"Validation\")\n",
    "    sess.run(iterator_val.initializer)\n",
    "    while True:\n",
    "        try:\n",
    "            sentence = sess.run(next_item,feed_dict={handle: handle_val})\n",
    "            loss = sess.run([M.loss], feed_dict={\n",
    "                M.sentence : sentence[\"sentence\"]\n",
    "            })\n",
    "            loss_val.append(loss)\n",
    "        except tf.errors.OutOfRangeError:\n",
    "            break\n",
    "        except tf.errors.DataLossError:\n",
    "            break\n",
    "\n",
    "print(\"Training and Validation Finish\")\n",
    "\n",
    "# Save Model\n",
    "saver = tf.train.Saver()\n",
    "saver.save(sess, params[\"save_path\"])\n",
    "save_params(params)\n",
    "\n",
    "print('Model Trained and Saved')"
   ]
  },
  {
   "cell_type": "code",
   "execution_count": 15,
   "metadata": {},
   "outputs": [
    {
     "data": {
      "image/png": "[encoded data removed]",
      "text/plain": [
       "<Figure size 432x288 with 1 Axes>"
      ]
     },
     "metadata": {
      "needs_background": "light"
     },
     "output_type": "display_data"
    }
   ],
   "source": [
    "import matplotlib.pyplot as plt\n",
    "plt.plot(loss_train)\n",
    "plt.show()"
   ]
  },
  {
   "cell_type": "code",
   "execution_count": 16,
   "metadata": {},
   "outputs": [
    {
     "data": {
      "image/png": "[encoded data removed]",
      "text/plain": [
       "<Figure size 432x288 with 1 Axes>"
      ]
     },
     "metadata": {
      "needs_background": "light"
     },
     "output_type": "display_data"
    }
   ],
   "source": [
    "import matplotlib.pyplot as plt\n",
    "plt.plot(loss_val)\n",
    "plt.show()"
   ]
  }
 ],
 "metadata": {
  "kernelspec": {
   "display_name": "Python (python36)",
   "language": "python",
   "name": "python36"
  },
  "language_info": {
   "codemirror_mode": {
    "name": "ipython",
    "version": 3
   },
   "file_extension": ".py",
   "mimetype": "text/x-python",
   "name": "python",
   "nbconvert_exporter": "python",
   "pygments_lexer": "ipython3",
   "version": "3.6.8"
  }
 },
 "nbformat": 4,
 "nbformat_minor": 2
}
